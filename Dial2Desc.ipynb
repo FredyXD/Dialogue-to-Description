{
  "nbformat": 4,
  "nbformat_minor": 0,
  "metadata": {
    "colab": {
      "name": "Dial2Desc.ipynb",
      "provenance": [],
      "collapsed_sections": []
    },
    "kernelspec": {
      "name": "python3",
      "display_name": "Python 3"
    },
    "widgets": {
      "application/vnd.jupyter.widget-state+json": {
        "d6b0473590f848b8bf244969506c445c": {
          "model_module": "@jupyter-widgets/controls",
          "model_name": "HBoxModel",
          "model_module_version": "1.5.0",
          "state": {
            "_view_name": "HBoxView",
            "_dom_classes": [],
            "_model_name": "HBoxModel",
            "_view_module": "@jupyter-widgets/controls",
            "_model_module_version": "1.5.0",
            "_view_count": null,
            "_view_module_version": "1.5.0",
            "box_style": "",
            "layout": "IPY_MODEL_08f7e7c7402a445bbfba46ec90f5a47a",
            "_model_module": "@jupyter-widgets/controls",
            "children": [
              "IPY_MODEL_b7735f4d55b44654a39df8ef6c94aba4",
              "IPY_MODEL_469557bf7d184ed8b13f92f804021d5a"
            ]
          }
        },
        "08f7e7c7402a445bbfba46ec90f5a47a": {
          "model_module": "@jupyter-widgets/base",
          "model_name": "LayoutModel",
          "model_module_version": "1.2.0",
          "state": {
            "_view_name": "LayoutView",
            "grid_template_rows": null,
            "right": null,
            "justify_content": null,
            "_view_module": "@jupyter-widgets/base",
            "overflow": null,
            "_model_module_version": "1.2.0",
            "_view_count": null,
            "flex_flow": "row wrap",
            "width": "100%",
            "min_width": null,
            "border": null,
            "align_items": null,
            "bottom": null,
            "_model_module": "@jupyter-widgets/base",
            "top": null,
            "grid_column": null,
            "overflow_y": null,
            "overflow_x": null,
            "grid_auto_flow": null,
            "grid_area": null,
            "grid_template_columns": null,
            "flex": null,
            "_model_name": "LayoutModel",
            "justify_items": null,
            "grid_row": null,
            "max_height": null,
            "align_content": null,
            "visibility": null,
            "align_self": null,
            "height": null,
            "min_height": null,
            "padding": null,
            "grid_auto_rows": null,
            "grid_gap": null,
            "max_width": null,
            "order": null,
            "_view_module_version": "1.2.0",
            "grid_template_areas": null,
            "object_position": null,
            "object_fit": null,
            "grid_auto_columns": null,
            "margin": null,
            "display": "inline-flex",
            "left": null
          }
        },
        "b7735f4d55b44654a39df8ef6c94aba4": {
          "model_module": "@jupyter-widgets/controls",
          "model_name": "FloatProgressModel",
          "model_module_version": "1.5.0",
          "state": {
            "_view_name": "ProgressView",
            "style": "IPY_MODEL_e8394c88ea3c4234bdf95e3bb1700951",
            "_dom_classes": [],
            "description": "Validation sanity check:   0%",
            "_model_name": "FloatProgressModel",
            "bar_style": "danger",
            "max": 2,
            "_view_module": "@jupyter-widgets/controls",
            "_model_module_version": "1.5.0",
            "value": 0,
            "_view_count": null,
            "_view_module_version": "1.5.0",
            "orientation": "horizontal",
            "min": 0,
            "description_tooltip": null,
            "_model_module": "@jupyter-widgets/controls",
            "layout": "IPY_MODEL_59bfcc36d2394f0e9aeeee062e239d73"
          }
        },
        "469557bf7d184ed8b13f92f804021d5a": {
          "model_module": "@jupyter-widgets/controls",
          "model_name": "HTMLModel",
          "model_module_version": "1.5.0",
          "state": {
            "_view_name": "HTMLView",
            "style": "IPY_MODEL_5a1d50adece64952a77f68e23b7cf8f0",
            "_dom_classes": [],
            "description": "",
            "_model_name": "HTMLModel",
            "placeholder": "​",
            "_view_module": "@jupyter-widgets/controls",
            "_model_module_version": "1.5.0",
            "value": " 0/2 [00:00&lt;?, ?it/s]",
            "_view_count": null,
            "_view_module_version": "1.5.0",
            "description_tooltip": null,
            "_model_module": "@jupyter-widgets/controls",
            "layout": "IPY_MODEL_7358dbfeaeaa438ca781d723cbd39704"
          }
        },
        "e8394c88ea3c4234bdf95e3bb1700951": {
          "model_module": "@jupyter-widgets/controls",
          "model_name": "ProgressStyleModel",
          "model_module_version": "1.5.0",
          "state": {
            "_view_name": "StyleView",
            "_model_name": "ProgressStyleModel",
            "description_width": "initial",
            "_view_module": "@jupyter-widgets/base",
            "_model_module_version": "1.5.0",
            "_view_count": null,
            "_view_module_version": "1.2.0",
            "bar_color": null,
            "_model_module": "@jupyter-widgets/controls"
          }
        },
        "59bfcc36d2394f0e9aeeee062e239d73": {
          "model_module": "@jupyter-widgets/base",
          "model_name": "LayoutModel",
          "model_module_version": "1.2.0",
          "state": {
            "_view_name": "LayoutView",
            "grid_template_rows": null,
            "right": null,
            "justify_content": null,
            "_view_module": "@jupyter-widgets/base",
            "overflow": null,
            "_model_module_version": "1.2.0",
            "_view_count": null,
            "flex_flow": null,
            "width": null,
            "min_width": null,
            "border": null,
            "align_items": null,
            "bottom": null,
            "_model_module": "@jupyter-widgets/base",
            "top": null,
            "grid_column": null,
            "overflow_y": null,
            "overflow_x": null,
            "grid_auto_flow": null,
            "grid_area": null,
            "grid_template_columns": null,
            "flex": "2",
            "_model_name": "LayoutModel",
            "justify_items": null,
            "grid_row": null,
            "max_height": null,
            "align_content": null,
            "visibility": null,
            "align_self": null,
            "height": null,
            "min_height": null,
            "padding": null,
            "grid_auto_rows": null,
            "grid_gap": null,
            "max_width": null,
            "order": null,
            "_view_module_version": "1.2.0",
            "grid_template_areas": null,
            "object_position": null,
            "object_fit": null,
            "grid_auto_columns": null,
            "margin": null,
            "display": null,
            "left": null
          }
        },
        "5a1d50adece64952a77f68e23b7cf8f0": {
          "model_module": "@jupyter-widgets/controls",
          "model_name": "DescriptionStyleModel",
          "model_module_version": "1.5.0",
          "state": {
            "_view_name": "StyleView",
            "_model_name": "DescriptionStyleModel",
            "description_width": "",
            "_view_module": "@jupyter-widgets/base",
            "_model_module_version": "1.5.0",
            "_view_count": null,
            "_view_module_version": "1.2.0",
            "_model_module": "@jupyter-widgets/controls"
          }
        },
        "7358dbfeaeaa438ca781d723cbd39704": {
          "model_module": "@jupyter-widgets/base",
          "model_name": "LayoutModel",
          "model_module_version": "1.2.0",
          "state": {
            "_view_name": "LayoutView",
            "grid_template_rows": null,
            "right": null,
            "justify_content": null,
            "_view_module": "@jupyter-widgets/base",
            "overflow": null,
            "_model_module_version": "1.2.0",
            "_view_count": null,
            "flex_flow": null,
            "width": null,
            "min_width": null,
            "border": null,
            "align_items": null,
            "bottom": null,
            "_model_module": "@jupyter-widgets/base",
            "top": null,
            "grid_column": null,
            "overflow_y": null,
            "overflow_x": null,
            "grid_auto_flow": null,
            "grid_area": null,
            "grid_template_columns": null,
            "flex": null,
            "_model_name": "LayoutModel",
            "justify_items": null,
            "grid_row": null,
            "max_height": null,
            "align_content": null,
            "visibility": null,
            "align_self": null,
            "height": null,
            "min_height": null,
            "padding": null,
            "grid_auto_rows": null,
            "grid_gap": null,
            "max_width": null,
            "order": null,
            "_view_module_version": "1.2.0",
            "grid_template_areas": null,
            "object_position": null,
            "object_fit": null,
            "grid_auto_columns": null,
            "margin": null,
            "display": null,
            "left": null
          }
        },
        "2a261e60eead499abe175a3701adcfd7": {
          "model_module": "@jupyter-widgets/controls",
          "model_name": "HBoxModel",
          "model_module_version": "1.5.0",
          "state": {
            "_view_name": "HBoxView",
            "_dom_classes": [],
            "_model_name": "HBoxModel",
            "_view_module": "@jupyter-widgets/controls",
            "_model_module_version": "1.5.0",
            "_view_count": null,
            "_view_module_version": "1.5.0",
            "box_style": "",
            "layout": "IPY_MODEL_6704fff628694819952207b89fc00770",
            "_model_module": "@jupyter-widgets/controls",
            "children": [
              "IPY_MODEL_d73125dcb6984501b6ac336ec132dfeb",
              "IPY_MODEL_7df7f35de96f4e558f87c7d34253a734"
            ]
          }
        },
        "6704fff628694819952207b89fc00770": {
          "model_module": "@jupyter-widgets/base",
          "model_name": "LayoutModel",
          "model_module_version": "1.2.0",
          "state": {
            "_view_name": "LayoutView",
            "grid_template_rows": null,
            "right": null,
            "justify_content": null,
            "_view_module": "@jupyter-widgets/base",
            "overflow": null,
            "_model_module_version": "1.2.0",
            "_view_count": null,
            "flex_flow": "row wrap",
            "width": "100%",
            "min_width": null,
            "border": null,
            "align_items": null,
            "bottom": null,
            "_model_module": "@jupyter-widgets/base",
            "top": null,
            "grid_column": null,
            "overflow_y": null,
            "overflow_x": null,
            "grid_auto_flow": null,
            "grid_area": null,
            "grid_template_columns": null,
            "flex": null,
            "_model_name": "LayoutModel",
            "justify_items": null,
            "grid_row": null,
            "max_height": null,
            "align_content": null,
            "visibility": null,
            "align_self": null,
            "height": null,
            "min_height": null,
            "padding": null,
            "grid_auto_rows": null,
            "grid_gap": null,
            "max_width": null,
            "order": null,
            "_view_module_version": "1.2.0",
            "grid_template_areas": null,
            "object_position": null,
            "object_fit": null,
            "grid_auto_columns": null,
            "margin": null,
            "display": "inline-flex",
            "left": null
          }
        },
        "d73125dcb6984501b6ac336ec132dfeb": {
          "model_module": "@jupyter-widgets/controls",
          "model_name": "FloatProgressModel",
          "model_module_version": "1.5.0",
          "state": {
            "_view_name": "ProgressView",
            "style": "IPY_MODEL_027856c3e0364b60bac2242bfece743c",
            "_dom_classes": [],
            "description": "Epoch 3: 100%",
            "_model_name": "FloatProgressModel",
            "bar_style": "success",
            "max": 7834,
            "_view_module": "@jupyter-widgets/controls",
            "_model_module_version": "1.5.0",
            "value": 7834,
            "_view_count": null,
            "_view_module_version": "1.5.0",
            "orientation": "horizontal",
            "min": 0,
            "description_tooltip": null,
            "_model_module": "@jupyter-widgets/controls",
            "layout": "IPY_MODEL_fa25f762c9f34b26a96a3a5d6b2455ca"
          }
        },
        "7df7f35de96f4e558f87c7d34253a734": {
          "model_module": "@jupyter-widgets/controls",
          "model_name": "HTMLModel",
          "model_module_version": "1.5.0",
          "state": {
            "_view_name": "HTMLView",
            "style": "IPY_MODEL_16372422aa7d4c638f3e10ae7595fbfe",
            "_dom_classes": [],
            "description": "",
            "_model_name": "HTMLModel",
            "placeholder": "​",
            "_view_module": "@jupyter-widgets/controls",
            "_model_module_version": "1.5.0",
            "value": " 7834/7834 [30:07&lt;00:00,  4.33it/s, loss=3.6, v_num=2]",
            "_view_count": null,
            "_view_module_version": "1.5.0",
            "description_tooltip": null,
            "_model_module": "@jupyter-widgets/controls",
            "layout": "IPY_MODEL_3098be0a538a457bba7c5435bef7b875"
          }
        },
        "027856c3e0364b60bac2242bfece743c": {
          "model_module": "@jupyter-widgets/controls",
          "model_name": "ProgressStyleModel",
          "model_module_version": "1.5.0",
          "state": {
            "_view_name": "StyleView",
            "_model_name": "ProgressStyleModel",
            "description_width": "initial",
            "_view_module": "@jupyter-widgets/base",
            "_model_module_version": "1.5.0",
            "_view_count": null,
            "_view_module_version": "1.2.0",
            "bar_color": null,
            "_model_module": "@jupyter-widgets/controls"
          }
        },
        "fa25f762c9f34b26a96a3a5d6b2455ca": {
          "model_module": "@jupyter-widgets/base",
          "model_name": "LayoutModel",
          "model_module_version": "1.2.0",
          "state": {
            "_view_name": "LayoutView",
            "grid_template_rows": null,
            "right": null,
            "justify_content": null,
            "_view_module": "@jupyter-widgets/base",
            "overflow": null,
            "_model_module_version": "1.2.0",
            "_view_count": null,
            "flex_flow": null,
            "width": null,
            "min_width": null,
            "border": null,
            "align_items": null,
            "bottom": null,
            "_model_module": "@jupyter-widgets/base",
            "top": null,
            "grid_column": null,
            "overflow_y": null,
            "overflow_x": null,
            "grid_auto_flow": null,
            "grid_area": null,
            "grid_template_columns": null,
            "flex": "2",
            "_model_name": "LayoutModel",
            "justify_items": null,
            "grid_row": null,
            "max_height": null,
            "align_content": null,
            "visibility": null,
            "align_self": null,
            "height": null,
            "min_height": null,
            "padding": null,
            "grid_auto_rows": null,
            "grid_gap": null,
            "max_width": null,
            "order": null,
            "_view_module_version": "1.2.0",
            "grid_template_areas": null,
            "object_position": null,
            "object_fit": null,
            "grid_auto_columns": null,
            "margin": null,
            "display": null,
            "left": null
          }
        },
        "16372422aa7d4c638f3e10ae7595fbfe": {
          "model_module": "@jupyter-widgets/controls",
          "model_name": "DescriptionStyleModel",
          "model_module_version": "1.5.0",
          "state": {
            "_view_name": "StyleView",
            "_model_name": "DescriptionStyleModel",
            "description_width": "",
            "_view_module": "@jupyter-widgets/base",
            "_model_module_version": "1.5.0",
            "_view_count": null,
            "_view_module_version": "1.2.0",
            "_model_module": "@jupyter-widgets/controls"
          }
        },
        "3098be0a538a457bba7c5435bef7b875": {
          "model_module": "@jupyter-widgets/base",
          "model_name": "LayoutModel",
          "model_module_version": "1.2.0",
          "state": {
            "_view_name": "LayoutView",
            "grid_template_rows": null,
            "right": null,
            "justify_content": null,
            "_view_module": "@jupyter-widgets/base",
            "overflow": null,
            "_model_module_version": "1.2.0",
            "_view_count": null,
            "flex_flow": null,
            "width": null,
            "min_width": null,
            "border": null,
            "align_items": null,
            "bottom": null,
            "_model_module": "@jupyter-widgets/base",
            "top": null,
            "grid_column": null,
            "overflow_y": null,
            "overflow_x": null,
            "grid_auto_flow": null,
            "grid_area": null,
            "grid_template_columns": null,
            "flex": null,
            "_model_name": "LayoutModel",
            "justify_items": null,
            "grid_row": null,
            "max_height": null,
            "align_content": null,
            "visibility": null,
            "align_self": null,
            "height": null,
            "min_height": null,
            "padding": null,
            "grid_auto_rows": null,
            "grid_gap": null,
            "max_width": null,
            "order": null,
            "_view_module_version": "1.2.0",
            "grid_template_areas": null,
            "object_position": null,
            "object_fit": null,
            "grid_auto_columns": null,
            "margin": null,
            "display": null,
            "left": null
          }
        },
        "dd343c9e97e74d5784c1879050727d93": {
          "model_module": "@jupyter-widgets/controls",
          "model_name": "HBoxModel",
          "model_module_version": "1.5.0",
          "state": {
            "_view_name": "HBoxView",
            "_dom_classes": [],
            "_model_name": "HBoxModel",
            "_view_module": "@jupyter-widgets/controls",
            "_model_module_version": "1.5.0",
            "_view_count": null,
            "_view_module_version": "1.5.0",
            "box_style": "",
            "layout": "IPY_MODEL_f68aada4dd5f42b9a84f5eeeeea36f1f",
            "_model_module": "@jupyter-widgets/controls",
            "children": [
              "IPY_MODEL_87e8d3d1f6e246bea3f3c36aad87fb70",
              "IPY_MODEL_6adbc12771c74059afe7a67524106b4e"
            ]
          }
        },
        "f68aada4dd5f42b9a84f5eeeeea36f1f": {
          "model_module": "@jupyter-widgets/base",
          "model_name": "LayoutModel",
          "model_module_version": "1.2.0",
          "state": {
            "_view_name": "LayoutView",
            "grid_template_rows": null,
            "right": null,
            "justify_content": null,
            "_view_module": "@jupyter-widgets/base",
            "overflow": null,
            "_model_module_version": "1.2.0",
            "_view_count": null,
            "flex_flow": "row wrap",
            "width": "100%",
            "min_width": null,
            "border": null,
            "align_items": null,
            "bottom": null,
            "_model_module": "@jupyter-widgets/base",
            "top": null,
            "grid_column": null,
            "overflow_y": null,
            "overflow_x": null,
            "grid_auto_flow": null,
            "grid_area": null,
            "grid_template_columns": null,
            "flex": null,
            "_model_name": "LayoutModel",
            "justify_items": null,
            "grid_row": null,
            "max_height": null,
            "align_content": null,
            "visibility": null,
            "align_self": null,
            "height": null,
            "min_height": null,
            "padding": null,
            "grid_auto_rows": null,
            "grid_gap": null,
            "max_width": null,
            "order": null,
            "_view_module_version": "1.2.0",
            "grid_template_areas": null,
            "object_position": null,
            "object_fit": null,
            "grid_auto_columns": null,
            "margin": null,
            "display": "inline-flex",
            "left": null
          }
        },
        "87e8d3d1f6e246bea3f3c36aad87fb70": {
          "model_module": "@jupyter-widgets/controls",
          "model_name": "FloatProgressModel",
          "model_module_version": "1.5.0",
          "state": {
            "_view_name": "ProgressView",
            "style": "IPY_MODEL_0e761f2ec82d41e68b850cd7dceb2b54",
            "_dom_classes": [],
            "description": "Validating: 100%",
            "_model_name": "FloatProgressModel",
            "bar_style": "info",
            "max": 129,
            "_view_module": "@jupyter-widgets/controls",
            "_model_module_version": "1.5.0",
            "value": 129,
            "_view_count": null,
            "_view_module_version": "1.5.0",
            "orientation": "horizontal",
            "min": 0,
            "description_tooltip": null,
            "_model_module": "@jupyter-widgets/controls",
            "layout": "IPY_MODEL_096e331a1bb244fd9fedd8cb0169eed5"
          }
        },
        "6adbc12771c74059afe7a67524106b4e": {
          "model_module": "@jupyter-widgets/controls",
          "model_name": "HTMLModel",
          "model_module_version": "1.5.0",
          "state": {
            "_view_name": "HTMLView",
            "style": "IPY_MODEL_bb9f081442b34240ab84aa0dbc126603",
            "_dom_classes": [],
            "description": "",
            "_model_name": "HTMLModel",
            "placeholder": "​",
            "_view_module": "@jupyter-widgets/controls",
            "_model_module_version": "1.5.0",
            "value": " 129/129 [00:07&lt;00:00, 18.18it/s]",
            "_view_count": null,
            "_view_module_version": "1.5.0",
            "description_tooltip": null,
            "_model_module": "@jupyter-widgets/controls",
            "layout": "IPY_MODEL_f503b1bb5abc403fb8a2fca305cfcf33"
          }
        },
        "0e761f2ec82d41e68b850cd7dceb2b54": {
          "model_module": "@jupyter-widgets/controls",
          "model_name": "ProgressStyleModel",
          "model_module_version": "1.5.0",
          "state": {
            "_view_name": "StyleView",
            "_model_name": "ProgressStyleModel",
            "description_width": "initial",
            "_view_module": "@jupyter-widgets/base",
            "_model_module_version": "1.5.0",
            "_view_count": null,
            "_view_module_version": "1.2.0",
            "bar_color": null,
            "_model_module": "@jupyter-widgets/controls"
          }
        },
        "096e331a1bb244fd9fedd8cb0169eed5": {
          "model_module": "@jupyter-widgets/base",
          "model_name": "LayoutModel",
          "model_module_version": "1.2.0",
          "state": {
            "_view_name": "LayoutView",
            "grid_template_rows": null,
            "right": null,
            "justify_content": null,
            "_view_module": "@jupyter-widgets/base",
            "overflow": null,
            "_model_module_version": "1.2.0",
            "_view_count": null,
            "flex_flow": null,
            "width": null,
            "min_width": null,
            "border": null,
            "align_items": null,
            "bottom": null,
            "_model_module": "@jupyter-widgets/base",
            "top": null,
            "grid_column": null,
            "overflow_y": null,
            "overflow_x": null,
            "grid_auto_flow": null,
            "grid_area": null,
            "grid_template_columns": null,
            "flex": "2",
            "_model_name": "LayoutModel",
            "justify_items": null,
            "grid_row": null,
            "max_height": null,
            "align_content": null,
            "visibility": null,
            "align_self": null,
            "height": null,
            "min_height": null,
            "padding": null,
            "grid_auto_rows": null,
            "grid_gap": null,
            "max_width": null,
            "order": null,
            "_view_module_version": "1.2.0",
            "grid_template_areas": null,
            "object_position": null,
            "object_fit": null,
            "grid_auto_columns": null,
            "margin": null,
            "display": null,
            "left": null
          }
        },
        "bb9f081442b34240ab84aa0dbc126603": {
          "model_module": "@jupyter-widgets/controls",
          "model_name": "DescriptionStyleModel",
          "model_module_version": "1.5.0",
          "state": {
            "_view_name": "StyleView",
            "_model_name": "DescriptionStyleModel",
            "description_width": "",
            "_view_module": "@jupyter-widgets/base",
            "_model_module_version": "1.5.0",
            "_view_count": null,
            "_view_module_version": "1.2.0",
            "_model_module": "@jupyter-widgets/controls"
          }
        },
        "f503b1bb5abc403fb8a2fca305cfcf33": {
          "model_module": "@jupyter-widgets/base",
          "model_name": "LayoutModel",
          "model_module_version": "1.2.0",
          "state": {
            "_view_name": "LayoutView",
            "grid_template_rows": null,
            "right": null,
            "justify_content": null,
            "_view_module": "@jupyter-widgets/base",
            "overflow": null,
            "_model_module_version": "1.2.0",
            "_view_count": null,
            "flex_flow": null,
            "width": null,
            "min_width": null,
            "border": null,
            "align_items": null,
            "bottom": null,
            "_model_module": "@jupyter-widgets/base",
            "top": null,
            "grid_column": null,
            "overflow_y": null,
            "overflow_x": null,
            "grid_auto_flow": null,
            "grid_area": null,
            "grid_template_columns": null,
            "flex": null,
            "_model_name": "LayoutModel",
            "justify_items": null,
            "grid_row": null,
            "max_height": null,
            "align_content": null,
            "visibility": null,
            "align_self": null,
            "height": null,
            "min_height": null,
            "padding": null,
            "grid_auto_rows": null,
            "grid_gap": null,
            "max_width": null,
            "order": null,
            "_view_module_version": "1.2.0",
            "grid_template_areas": null,
            "object_position": null,
            "object_fit": null,
            "grid_auto_columns": null,
            "margin": null,
            "display": null,
            "left": null
          }
        },
        "829072a936ee43708da76a207fbb177a": {
          "model_module": "@jupyter-widgets/controls",
          "model_name": "HBoxModel",
          "model_module_version": "1.5.0",
          "state": {
            "_view_name": "HBoxView",
            "_dom_classes": [],
            "_model_name": "HBoxModel",
            "_view_module": "@jupyter-widgets/controls",
            "_model_module_version": "1.5.0",
            "_view_count": null,
            "_view_module_version": "1.5.0",
            "box_style": "",
            "layout": "IPY_MODEL_7394ff13288d4f80aa801d9914501654",
            "_model_module": "@jupyter-widgets/controls",
            "children": [
              "IPY_MODEL_1814c732f44e436496168689316525bb",
              "IPY_MODEL_78c696d7469349519ea79bd77ec3e28e"
            ]
          }
        },
        "7394ff13288d4f80aa801d9914501654": {
          "model_module": "@jupyter-widgets/base",
          "model_name": "LayoutModel",
          "model_module_version": "1.2.0",
          "state": {
            "_view_name": "LayoutView",
            "grid_template_rows": null,
            "right": null,
            "justify_content": null,
            "_view_module": "@jupyter-widgets/base",
            "overflow": null,
            "_model_module_version": "1.2.0",
            "_view_count": null,
            "flex_flow": "row wrap",
            "width": "100%",
            "min_width": null,
            "border": null,
            "align_items": null,
            "bottom": null,
            "_model_module": "@jupyter-widgets/base",
            "top": null,
            "grid_column": null,
            "overflow_y": null,
            "overflow_x": null,
            "grid_auto_flow": null,
            "grid_area": null,
            "grid_template_columns": null,
            "flex": null,
            "_model_name": "LayoutModel",
            "justify_items": null,
            "grid_row": null,
            "max_height": null,
            "align_content": null,
            "visibility": null,
            "align_self": null,
            "height": null,
            "min_height": null,
            "padding": null,
            "grid_auto_rows": null,
            "grid_gap": null,
            "max_width": null,
            "order": null,
            "_view_module_version": "1.2.0",
            "grid_template_areas": null,
            "object_position": null,
            "object_fit": null,
            "grid_auto_columns": null,
            "margin": null,
            "display": "inline-flex",
            "left": null
          }
        },
        "1814c732f44e436496168689316525bb": {
          "model_module": "@jupyter-widgets/controls",
          "model_name": "FloatProgressModel",
          "model_module_version": "1.5.0",
          "state": {
            "_view_name": "ProgressView",
            "style": "IPY_MODEL_d42592055e1e48ef9e4ff61e6331c2ed",
            "_dom_classes": [],
            "description": "Validating: 100%",
            "_model_name": "FloatProgressModel",
            "bar_style": "info",
            "max": 129,
            "_view_module": "@jupyter-widgets/controls",
            "_model_module_version": "1.5.0",
            "value": 129,
            "_view_count": null,
            "_view_module_version": "1.5.0",
            "orientation": "horizontal",
            "min": 0,
            "description_tooltip": null,
            "_model_module": "@jupyter-widgets/controls",
            "layout": "IPY_MODEL_8e66b02411c348af941d5e7ae7e4d6b2"
          }
        },
        "78c696d7469349519ea79bd77ec3e28e": {
          "model_module": "@jupyter-widgets/controls",
          "model_name": "HTMLModel",
          "model_module_version": "1.5.0",
          "state": {
            "_view_name": "HTMLView",
            "style": "IPY_MODEL_35836232927644e3a7858138c21a33d8",
            "_dom_classes": [],
            "description": "",
            "_model_name": "HTMLModel",
            "placeholder": "​",
            "_view_module": "@jupyter-widgets/controls",
            "_model_module_version": "1.5.0",
            "value": " 129/129 [00:07&lt;00:00, 18.14it/s]",
            "_view_count": null,
            "_view_module_version": "1.5.0",
            "description_tooltip": null,
            "_model_module": "@jupyter-widgets/controls",
            "layout": "IPY_MODEL_6cfda72424ff494490ced4d00774f35b"
          }
        },
        "d42592055e1e48ef9e4ff61e6331c2ed": {
          "model_module": "@jupyter-widgets/controls",
          "model_name": "ProgressStyleModel",
          "model_module_version": "1.5.0",
          "state": {
            "_view_name": "StyleView",
            "_model_name": "ProgressStyleModel",
            "description_width": "initial",
            "_view_module": "@jupyter-widgets/base",
            "_model_module_version": "1.5.0",
            "_view_count": null,
            "_view_module_version": "1.2.0",
            "bar_color": null,
            "_model_module": "@jupyter-widgets/controls"
          }
        },
        "8e66b02411c348af941d5e7ae7e4d6b2": {
          "model_module": "@jupyter-widgets/base",
          "model_name": "LayoutModel",
          "model_module_version": "1.2.0",
          "state": {
            "_view_name": "LayoutView",
            "grid_template_rows": null,
            "right": null,
            "justify_content": null,
            "_view_module": "@jupyter-widgets/base",
            "overflow": null,
            "_model_module_version": "1.2.0",
            "_view_count": null,
            "flex_flow": null,
            "width": null,
            "min_width": null,
            "border": null,
            "align_items": null,
            "bottom": null,
            "_model_module": "@jupyter-widgets/base",
            "top": null,
            "grid_column": null,
            "overflow_y": null,
            "overflow_x": null,
            "grid_auto_flow": null,
            "grid_area": null,
            "grid_template_columns": null,
            "flex": "2",
            "_model_name": "LayoutModel",
            "justify_items": null,
            "grid_row": null,
            "max_height": null,
            "align_content": null,
            "visibility": null,
            "align_self": null,
            "height": null,
            "min_height": null,
            "padding": null,
            "grid_auto_rows": null,
            "grid_gap": null,
            "max_width": null,
            "order": null,
            "_view_module_version": "1.2.0",
            "grid_template_areas": null,
            "object_position": null,
            "object_fit": null,
            "grid_auto_columns": null,
            "margin": null,
            "display": null,
            "left": null
          }
        },
        "35836232927644e3a7858138c21a33d8": {
          "model_module": "@jupyter-widgets/controls",
          "model_name": "DescriptionStyleModel",
          "model_module_version": "1.5.0",
          "state": {
            "_view_name": "StyleView",
            "_model_name": "DescriptionStyleModel",
            "description_width": "",
            "_view_module": "@jupyter-widgets/base",
            "_model_module_version": "1.5.0",
            "_view_count": null,
            "_view_module_version": "1.2.0",
            "_model_module": "@jupyter-widgets/controls"
          }
        },
        "6cfda72424ff494490ced4d00774f35b": {
          "model_module": "@jupyter-widgets/base",
          "model_name": "LayoutModel",
          "model_module_version": "1.2.0",
          "state": {
            "_view_name": "LayoutView",
            "grid_template_rows": null,
            "right": null,
            "justify_content": null,
            "_view_module": "@jupyter-widgets/base",
            "overflow": null,
            "_model_module_version": "1.2.0",
            "_view_count": null,
            "flex_flow": null,
            "width": null,
            "min_width": null,
            "border": null,
            "align_items": null,
            "bottom": null,
            "_model_module": "@jupyter-widgets/base",
            "top": null,
            "grid_column": null,
            "overflow_y": null,
            "overflow_x": null,
            "grid_auto_flow": null,
            "grid_area": null,
            "grid_template_columns": null,
            "flex": null,
            "_model_name": "LayoutModel",
            "justify_items": null,
            "grid_row": null,
            "max_height": null,
            "align_content": null,
            "visibility": null,
            "align_self": null,
            "height": null,
            "min_height": null,
            "padding": null,
            "grid_auto_rows": null,
            "grid_gap": null,
            "max_width": null,
            "order": null,
            "_view_module_version": "1.2.0",
            "grid_template_areas": null,
            "object_position": null,
            "object_fit": null,
            "grid_auto_columns": null,
            "margin": null,
            "display": null,
            "left": null
          }
        },
        "c6d3e0805f864fb2a17240b642a99262": {
          "model_module": "@jupyter-widgets/controls",
          "model_name": "HBoxModel",
          "model_module_version": "1.5.0",
          "state": {
            "_view_name": "HBoxView",
            "_dom_classes": [],
            "_model_name": "HBoxModel",
            "_view_module": "@jupyter-widgets/controls",
            "_model_module_version": "1.5.0",
            "_view_count": null,
            "_view_module_version": "1.5.0",
            "box_style": "",
            "layout": "IPY_MODEL_e41bfa8a230e4a85a7954429e188833a",
            "_model_module": "@jupyter-widgets/controls",
            "children": [
              "IPY_MODEL_fa45fce974d141eabe105115ea816b66",
              "IPY_MODEL_04ad7b138c7e41e2b10b4aa6d585777e"
            ]
          }
        },
        "e41bfa8a230e4a85a7954429e188833a": {
          "model_module": "@jupyter-widgets/base",
          "model_name": "LayoutModel",
          "model_module_version": "1.2.0",
          "state": {
            "_view_name": "LayoutView",
            "grid_template_rows": null,
            "right": null,
            "justify_content": null,
            "_view_module": "@jupyter-widgets/base",
            "overflow": null,
            "_model_module_version": "1.2.0",
            "_view_count": null,
            "flex_flow": "row wrap",
            "width": "100%",
            "min_width": null,
            "border": null,
            "align_items": null,
            "bottom": null,
            "_model_module": "@jupyter-widgets/base",
            "top": null,
            "grid_column": null,
            "overflow_y": null,
            "overflow_x": null,
            "grid_auto_flow": null,
            "grid_area": null,
            "grid_template_columns": null,
            "flex": null,
            "_model_name": "LayoutModel",
            "justify_items": null,
            "grid_row": null,
            "max_height": null,
            "align_content": null,
            "visibility": null,
            "align_self": null,
            "height": null,
            "min_height": null,
            "padding": null,
            "grid_auto_rows": null,
            "grid_gap": null,
            "max_width": null,
            "order": null,
            "_view_module_version": "1.2.0",
            "grid_template_areas": null,
            "object_position": null,
            "object_fit": null,
            "grid_auto_columns": null,
            "margin": null,
            "display": "inline-flex",
            "left": null
          }
        },
        "fa45fce974d141eabe105115ea816b66": {
          "model_module": "@jupyter-widgets/controls",
          "model_name": "FloatProgressModel",
          "model_module_version": "1.5.0",
          "state": {
            "_view_name": "ProgressView",
            "style": "IPY_MODEL_17b2d051041146eaa93c7d1238c5a52d",
            "_dom_classes": [],
            "description": "Validating: 100%",
            "_model_name": "FloatProgressModel",
            "bar_style": "info",
            "max": 129,
            "_view_module": "@jupyter-widgets/controls",
            "_model_module_version": "1.5.0",
            "value": 129,
            "_view_count": null,
            "_view_module_version": "1.5.0",
            "orientation": "horizontal",
            "min": 0,
            "description_tooltip": null,
            "_model_module": "@jupyter-widgets/controls",
            "layout": "IPY_MODEL_57df0e5b8a8d4c719195d9915517c3eb"
          }
        },
        "04ad7b138c7e41e2b10b4aa6d585777e": {
          "model_module": "@jupyter-widgets/controls",
          "model_name": "HTMLModel",
          "model_module_version": "1.5.0",
          "state": {
            "_view_name": "HTMLView",
            "style": "IPY_MODEL_28187a5b28494882bc28f7ddc745267f",
            "_dom_classes": [],
            "description": "",
            "_model_name": "HTMLModel",
            "placeholder": "​",
            "_view_module": "@jupyter-widgets/controls",
            "_model_module_version": "1.5.0",
            "value": " 129/129 [00:07&lt;00:00, 18.07it/s]",
            "_view_count": null,
            "_view_module_version": "1.5.0",
            "description_tooltip": null,
            "_model_module": "@jupyter-widgets/controls",
            "layout": "IPY_MODEL_e87e9e45d24f46d7b81f6a677b68a6d0"
          }
        },
        "17b2d051041146eaa93c7d1238c5a52d": {
          "model_module": "@jupyter-widgets/controls",
          "model_name": "ProgressStyleModel",
          "model_module_version": "1.5.0",
          "state": {
            "_view_name": "StyleView",
            "_model_name": "ProgressStyleModel",
            "description_width": "initial",
            "_view_module": "@jupyter-widgets/base",
            "_model_module_version": "1.5.0",
            "_view_count": null,
            "_view_module_version": "1.2.0",
            "bar_color": null,
            "_model_module": "@jupyter-widgets/controls"
          }
        },
        "57df0e5b8a8d4c719195d9915517c3eb": {
          "model_module": "@jupyter-widgets/base",
          "model_name": "LayoutModel",
          "model_module_version": "1.2.0",
          "state": {
            "_view_name": "LayoutView",
            "grid_template_rows": null,
            "right": null,
            "justify_content": null,
            "_view_module": "@jupyter-widgets/base",
            "overflow": null,
            "_model_module_version": "1.2.0",
            "_view_count": null,
            "flex_flow": null,
            "width": null,
            "min_width": null,
            "border": null,
            "align_items": null,
            "bottom": null,
            "_model_module": "@jupyter-widgets/base",
            "top": null,
            "grid_column": null,
            "overflow_y": null,
            "overflow_x": null,
            "grid_auto_flow": null,
            "grid_area": null,
            "grid_template_columns": null,
            "flex": "2",
            "_model_name": "LayoutModel",
            "justify_items": null,
            "grid_row": null,
            "max_height": null,
            "align_content": null,
            "visibility": null,
            "align_self": null,
            "height": null,
            "min_height": null,
            "padding": null,
            "grid_auto_rows": null,
            "grid_gap": null,
            "max_width": null,
            "order": null,
            "_view_module_version": "1.2.0",
            "grid_template_areas": null,
            "object_position": null,
            "object_fit": null,
            "grid_auto_columns": null,
            "margin": null,
            "display": null,
            "left": null
          }
        },
        "28187a5b28494882bc28f7ddc745267f": {
          "model_module": "@jupyter-widgets/controls",
          "model_name": "DescriptionStyleModel",
          "model_module_version": "1.5.0",
          "state": {
            "_view_name": "StyleView",
            "_model_name": "DescriptionStyleModel",
            "description_width": "",
            "_view_module": "@jupyter-widgets/base",
            "_model_module_version": "1.5.0",
            "_view_count": null,
            "_view_module_version": "1.2.0",
            "_model_module": "@jupyter-widgets/controls"
          }
        },
        "e87e9e45d24f46d7b81f6a677b68a6d0": {
          "model_module": "@jupyter-widgets/base",
          "model_name": "LayoutModel",
          "model_module_version": "1.2.0",
          "state": {
            "_view_name": "LayoutView",
            "grid_template_rows": null,
            "right": null,
            "justify_content": null,
            "_view_module": "@jupyter-widgets/base",
            "overflow": null,
            "_model_module_version": "1.2.0",
            "_view_count": null,
            "flex_flow": null,
            "width": null,
            "min_width": null,
            "border": null,
            "align_items": null,
            "bottom": null,
            "_model_module": "@jupyter-widgets/base",
            "top": null,
            "grid_column": null,
            "overflow_y": null,
            "overflow_x": null,
            "grid_auto_flow": null,
            "grid_area": null,
            "grid_template_columns": null,
            "flex": null,
            "_model_name": "LayoutModel",
            "justify_items": null,
            "grid_row": null,
            "max_height": null,
            "align_content": null,
            "visibility": null,
            "align_self": null,
            "height": null,
            "min_height": null,
            "padding": null,
            "grid_auto_rows": null,
            "grid_gap": null,
            "max_width": null,
            "order": null,
            "_view_module_version": "1.2.0",
            "grid_template_areas": null,
            "object_position": null,
            "object_fit": null,
            "grid_auto_columns": null,
            "margin": null,
            "display": null,
            "left": null
          }
        },
        "3af35535b1364e669ec1828fdf503cf4": {
          "model_module": "@jupyter-widgets/controls",
          "model_name": "HBoxModel",
          "model_module_version": "1.5.0",
          "state": {
            "_view_name": "HBoxView",
            "_dom_classes": [],
            "_model_name": "HBoxModel",
            "_view_module": "@jupyter-widgets/controls",
            "_model_module_version": "1.5.0",
            "_view_count": null,
            "_view_module_version": "1.5.0",
            "box_style": "",
            "layout": "IPY_MODEL_9b736fdacba448c7934809e10ee19330",
            "_model_module": "@jupyter-widgets/controls",
            "children": [
              "IPY_MODEL_06bbcff30d5444a8a6be28e4a174e7e4",
              "IPY_MODEL_e2b71c97a9a24bee8d780f59bb383bd6"
            ]
          }
        },
        "9b736fdacba448c7934809e10ee19330": {
          "model_module": "@jupyter-widgets/base",
          "model_name": "LayoutModel",
          "model_module_version": "1.2.0",
          "state": {
            "_view_name": "LayoutView",
            "grid_template_rows": null,
            "right": null,
            "justify_content": null,
            "_view_module": "@jupyter-widgets/base",
            "overflow": null,
            "_model_module_version": "1.2.0",
            "_view_count": null,
            "flex_flow": "row wrap",
            "width": "100%",
            "min_width": null,
            "border": null,
            "align_items": null,
            "bottom": null,
            "_model_module": "@jupyter-widgets/base",
            "top": null,
            "grid_column": null,
            "overflow_y": null,
            "overflow_x": null,
            "grid_auto_flow": null,
            "grid_area": null,
            "grid_template_columns": null,
            "flex": null,
            "_model_name": "LayoutModel",
            "justify_items": null,
            "grid_row": null,
            "max_height": null,
            "align_content": null,
            "visibility": null,
            "align_self": null,
            "height": null,
            "min_height": null,
            "padding": null,
            "grid_auto_rows": null,
            "grid_gap": null,
            "max_width": null,
            "order": null,
            "_view_module_version": "1.2.0",
            "grid_template_areas": null,
            "object_position": null,
            "object_fit": null,
            "grid_auto_columns": null,
            "margin": null,
            "display": "inline-flex",
            "left": null
          }
        },
        "06bbcff30d5444a8a6be28e4a174e7e4": {
          "model_module": "@jupyter-widgets/controls",
          "model_name": "FloatProgressModel",
          "model_module_version": "1.5.0",
          "state": {
            "_view_name": "ProgressView",
            "style": "IPY_MODEL_df0628c926df4d4f8267864d2bd0003e",
            "_dom_classes": [],
            "description": "Validating: 100%",
            "_model_name": "FloatProgressModel",
            "bar_style": "info",
            "max": 129,
            "_view_module": "@jupyter-widgets/controls",
            "_model_module_version": "1.5.0",
            "value": 129,
            "_view_count": null,
            "_view_module_version": "1.5.0",
            "orientation": "horizontal",
            "min": 0,
            "description_tooltip": null,
            "_model_module": "@jupyter-widgets/controls",
            "layout": "IPY_MODEL_c78d91374853434ebd545c500f5bc886"
          }
        },
        "e2b71c97a9a24bee8d780f59bb383bd6": {
          "model_module": "@jupyter-widgets/controls",
          "model_name": "HTMLModel",
          "model_module_version": "1.5.0",
          "state": {
            "_view_name": "HTMLView",
            "style": "IPY_MODEL_eecb28c510bc461e8be39d879572218c",
            "_dom_classes": [],
            "description": "",
            "_model_name": "HTMLModel",
            "placeholder": "​",
            "_view_module": "@jupyter-widgets/controls",
            "_model_module_version": "1.5.0",
            "value": " 129/129 [00:07&lt;00:00, 18.35it/s]",
            "_view_count": null,
            "_view_module_version": "1.5.0",
            "description_tooltip": null,
            "_model_module": "@jupyter-widgets/controls",
            "layout": "IPY_MODEL_2f3a75529229457f8ce4ad9649a10ec3"
          }
        },
        "df0628c926df4d4f8267864d2bd0003e": {
          "model_module": "@jupyter-widgets/controls",
          "model_name": "ProgressStyleModel",
          "model_module_version": "1.5.0",
          "state": {
            "_view_name": "StyleView",
            "_model_name": "ProgressStyleModel",
            "description_width": "initial",
            "_view_module": "@jupyter-widgets/base",
            "_model_module_version": "1.5.0",
            "_view_count": null,
            "_view_module_version": "1.2.0",
            "bar_color": null,
            "_model_module": "@jupyter-widgets/controls"
          }
        },
        "c78d91374853434ebd545c500f5bc886": {
          "model_module": "@jupyter-widgets/base",
          "model_name": "LayoutModel",
          "model_module_version": "1.2.0",
          "state": {
            "_view_name": "LayoutView",
            "grid_template_rows": null,
            "right": null,
            "justify_content": null,
            "_view_module": "@jupyter-widgets/base",
            "overflow": null,
            "_model_module_version": "1.2.0",
            "_view_count": null,
            "flex_flow": null,
            "width": null,
            "min_width": null,
            "border": null,
            "align_items": null,
            "bottom": null,
            "_model_module": "@jupyter-widgets/base",
            "top": null,
            "grid_column": null,
            "overflow_y": null,
            "overflow_x": null,
            "grid_auto_flow": null,
            "grid_area": null,
            "grid_template_columns": null,
            "flex": "2",
            "_model_name": "LayoutModel",
            "justify_items": null,
            "grid_row": null,
            "max_height": null,
            "align_content": null,
            "visibility": null,
            "align_self": null,
            "height": null,
            "min_height": null,
            "padding": null,
            "grid_auto_rows": null,
            "grid_gap": null,
            "max_width": null,
            "order": null,
            "_view_module_version": "1.2.0",
            "grid_template_areas": null,
            "object_position": null,
            "object_fit": null,
            "grid_auto_columns": null,
            "margin": null,
            "display": null,
            "left": null
          }
        },
        "eecb28c510bc461e8be39d879572218c": {
          "model_module": "@jupyter-widgets/controls",
          "model_name": "DescriptionStyleModel",
          "model_module_version": "1.5.0",
          "state": {
            "_view_name": "StyleView",
            "_model_name": "DescriptionStyleModel",
            "description_width": "",
            "_view_module": "@jupyter-widgets/base",
            "_model_module_version": "1.5.0",
            "_view_count": null,
            "_view_module_version": "1.2.0",
            "_model_module": "@jupyter-widgets/controls"
          }
        },
        "2f3a75529229457f8ce4ad9649a10ec3": {
          "model_module": "@jupyter-widgets/base",
          "model_name": "LayoutModel",
          "model_module_version": "1.2.0",
          "state": {
            "_view_name": "LayoutView",
            "grid_template_rows": null,
            "right": null,
            "justify_content": null,
            "_view_module": "@jupyter-widgets/base",
            "overflow": null,
            "_model_module_version": "1.2.0",
            "_view_count": null,
            "flex_flow": null,
            "width": null,
            "min_width": null,
            "border": null,
            "align_items": null,
            "bottom": null,
            "_model_module": "@jupyter-widgets/base",
            "top": null,
            "grid_column": null,
            "overflow_y": null,
            "overflow_x": null,
            "grid_auto_flow": null,
            "grid_area": null,
            "grid_template_columns": null,
            "flex": null,
            "_model_name": "LayoutModel",
            "justify_items": null,
            "grid_row": null,
            "max_height": null,
            "align_content": null,
            "visibility": null,
            "align_self": null,
            "height": null,
            "min_height": null,
            "padding": null,
            "grid_auto_rows": null,
            "grid_gap": null,
            "max_width": null,
            "order": null,
            "_view_module_version": "1.2.0",
            "grid_template_areas": null,
            "object_position": null,
            "object_fit": null,
            "grid_auto_columns": null,
            "margin": null,
            "display": null,
            "left": null
          }
        }
      }
    },
    "accelerator": "GPU"
  },
  "cells": [
    {
      "cell_type": "markdown",
      "metadata": {
        "id": "GdQzI6GZBDpY"
      },
      "source": [
        "# Getting the data"
      ]
    },
    {
      "cell_type": "code",
      "metadata": {
        "colab": {
          "base_uri": "https://localhost:8080/"
        },
        "id": "nnM6uI1zjcm6",
        "outputId": "2173d87a-b382-4e01-dc88-a97983d1d53f"
      },
      "source": [
        "!nvidia-smi"
      ],
      "execution_count": null,
      "outputs": [
        {
          "output_type": "stream",
          "text": [
            "Tue Mar 30 11:15:42 2021       \n",
            "+-----------------------------------------------------------------------------+\n",
            "| NVIDIA-SMI 460.56       Driver Version: 460.32.03    CUDA Version: 11.2     |\n",
            "|-------------------------------+----------------------+----------------------+\n",
            "| GPU  Name        Persistence-M| Bus-Id        Disp.A | Volatile Uncorr. ECC |\n",
            "| Fan  Temp  Perf  Pwr:Usage/Cap|         Memory-Usage | GPU-Util  Compute M. |\n",
            "|                               |                      |               MIG M. |\n",
            "|===============================+======================+======================|\n",
            "|   0  Tesla T4            Off  | 00000000:00:04.0 Off |                    0 |\n",
            "| N/A   32C    P8     9W /  70W |      0MiB / 15109MiB |      0%      Default |\n",
            "|                               |                      |                  N/A |\n",
            "+-------------------------------+----------------------+----------------------+\n",
            "                                                                               \n",
            "+-----------------------------------------------------------------------------+\n",
            "| Processes:                                                                  |\n",
            "|  GPU   GI   CI        PID   Type   Process name                  GPU Memory |\n",
            "|        ID   ID                                                   Usage      |\n",
            "|=============================================================================|\n",
            "|  No running processes found                                                 |\n",
            "+-----------------------------------------------------------------------------+\n"
          ],
          "name": "stdout"
        }
      ]
    },
    {
      "cell_type": "code",
      "metadata": {
        "id": "mRpsZNrBhkpg"
      },
      "source": [
        "!pip install pytorch-lightning\n",
        "!pip install gensim"
      ],
      "execution_count": null,
      "outputs": []
    },
    {
      "cell_type": "code",
      "metadata": {
        "id": "XGV1mgOngSFl"
      },
      "source": [
        "import math\n",
        "\n",
        "import pandas as pd\n",
        "import matplotlib.pyplot as plt\n",
        "import numpy as np\n",
        "import seaborn as sns\n",
        "sns.set()\n",
        "\n",
        "from gensim.models import KeyedVectors\n",
        "from gensim.utils import tokenize\n",
        "\n",
        "import torch\n",
        "from torch import nn\n",
        "from torch.nn import functional as F\n",
        "from torch.utils.data import DataLoader\n",
        "from torch.utils.data import random_split\n",
        "from torchvision import transforms\n",
        "\n",
        "import torchtext\n",
        "from torchtext.data import get_tokenizer\n",
        "\n",
        "import pytorch_lightning as pl\n",
        "\n",
        "device = torch.device('cuda' if torch.cuda.is_available() else 'cpu')"
      ],
      "execution_count": null,
      "outputs": []
    },
    {
      "cell_type": "code",
      "metadata": {
        "id": "pUEvDZNWGuyU",
        "colab": {
          "base_uri": "https://localhost:8080/"
        },
        "outputId": "4c3e8bf5-6315-4326-f27d-f024c27471f1"
      },
      "source": [
        "import gensim.downloader as api\n",
        "\n",
        "info = api.info()  # show info about available models/datasets\n",
        "wordmodel = api.load(\"glove-wiki-gigaword-50\")  # download the model and return as object ready for use"
      ],
      "execution_count": null,
      "outputs": [
        {
          "output_type": "stream",
          "text": [
            "[==================================================] 100.0% 66.0/66.0MB downloaded\n"
          ],
          "name": "stdout"
        }
      ]
    },
    {
      "cell_type": "markdown",
      "metadata": {
        "id": "m3hxq0TZZq66"
      },
      "source": [
        "# Vocab"
      ]
    },
    {
      "cell_type": "code",
      "metadata": {
        "id": "LYTbanxCZuGH"
      },
      "source": [
        "index2word = wordmodel.__dict__['index2word'].copy()\n",
        "index2word.insert(0, '<unk>')\n",
        "index2word.insert(0, '<end>')\n",
        "index2word.insert(0, '<start>')\n",
        "word2index = {w:i for i, w in enumerate(index2word)}\n",
        "\n",
        "def indextoword(index):\n",
        "  try:\n",
        "    return index2word[index]\n",
        "  except:\n",
        "    print('enter a valid index')\n",
        "\n",
        "\n",
        "def wordtoindex(word):\n",
        "  try:\n",
        "    return word2index[word]\n",
        "  except:\n",
        "    return word2index['<unk>']"
      ],
      "execution_count": null,
      "outputs": []
    },
    {
      "cell_type": "markdown",
      "metadata": {
        "id": "7skrj8TN9vvN"
      },
      "source": [
        "# Dataset"
      ]
    },
    {
      "cell_type": "code",
      "metadata": {
        "id": "Ou68bvFQ7atP"
      },
      "source": [
        "dialgogue_turn_max_lenght = 10\n",
        "caption_max_lenght = 15\n",
        "embedlenght = 50\n",
        "\n",
        "tokenizer = get_tokenizer(\"basic_english\")\n",
        "\n",
        "def clippad(sequence, max_lenght=10):\n",
        "  n = len(sequence)\n",
        "  if n > max_lenght:\n",
        "    return sequence[:max_lenght]\n",
        "  else:\n",
        "    for i in range(max_lenght - n):\n",
        "      sequence.append('')\n",
        "    return sequence\n",
        "  \n",
        "def myTokenizer(sentence, max_lenght=dialgogue_turn_max_lenght, lowercase=True, caption=False):\n",
        "  tokensequence = tokenizer(sentence)\n",
        "  if caption:\n",
        "    tokensequence.insert(0, '<start>')\n",
        "    tokensequence.append('<end>')\n",
        "  tokensequence = clippad(tokensequence, max_lenght=max_lenght)\n",
        "  return tokensequence\n",
        "\n",
        "def myWordModel(s, embedlenght=embedlenght):\n",
        "  try:\n",
        "    out = list(wordmodel[s])\n",
        "    return out\n",
        "  except:\n",
        "    return [0 for x in range(embedlenght)]\n",
        "\n",
        "class Dial2DescDataset(torch.utils.data.Dataset):\n",
        "  def __init__(self, dev=False):\n",
        "\n",
        "    path = 'drive/MyDrive/Datasets/VisDial/visdial_1.0_(Unzipped Files)/visdial_1.0_val.json' if dev else 'drive/MyDrive/Datasets/VisDial/visdial_1.0_(Unzipped Files)/visdial_1.0_train.json'\n",
        "\n",
        "    traindialogue = pd.read_json(path)[['data']] if dev else pd.read_json(path)[['data']]\n",
        "    answers = traindialogue.loc['answers'][0]\n",
        "    dialogs = traindialogue.loc['dialogs'][0]\n",
        "    questions = traindialogue.loc['questions'][0]\n",
        "    del traindialogue\n",
        "\n",
        "    n = len(dialogs)\n",
        "    questionsarray = torch.empty([n, 10, dialgogue_turn_max_lenght, embedlenght]).to(device)\n",
        "    answersarray = torch.empty([n, 10, dialgogue_turn_max_lenght, embedlenght]).to(device)\n",
        "    i = 0\n",
        "    for elm in dialogs:\n",
        "      questionsi = [questions[x['question']] for x in elm['dialog']]\n",
        "      answersi = [answers[x['answer']] for x in elm['dialog']]\n",
        "      questionsarray[i] = torch.tensor([[myWordModel(y) for y in myTokenizer(x)] for x in questionsi])\n",
        "      answersarray[i] = torch.tensor([[myWordModel(y) for y in myTokenizer(x)] for x in answersi])\n",
        "      i+=1\n",
        "      if i == n -1:\n",
        "          break\n",
        "    del answers\n",
        "    del questions\n",
        "\n",
        "    captions = np.array([elm['caption'] for elm in dialogs])[:n]\n",
        "\n",
        "    del dialogs\n",
        "\n",
        "    #decoder inputs and outputs\n",
        "    captionsTokens = [myTokenizer(elm, max_lenght=caption_max_lenght, caption=True) for elm in captions]\n",
        "    captionsI = [[myWordModel(x) for x in y[:-1]] for y in captionsTokens]\n",
        "    captionsO = [[wordtoindex(x) for x in y[1:]] for y in captionsTokens]\n",
        "\n",
        "    self.captionsI = torch.tensor(captionsI).to(device)\n",
        "    self.captionsO = torch.tensor(captionsO).to(device)\n",
        "    self.questions = questionsarray\n",
        "    self.answers = answersarray\n",
        "\n",
        "  def __len__(self):\n",
        "      return len(self.captionsI)  #required\n",
        "      \n",
        "  def __getitem__(self, idx):\n",
        "      question = self.questions[idx]\n",
        "      answer = self.answers[idx]\n",
        "      captionI = self.captionsI[idx]\n",
        "      captionO = self.captionsO[idx]\n",
        "      return question, answer, captionI, captionO"
      ],
      "execution_count": null,
      "outputs": []
    },
    {
      "cell_type": "code",
      "metadata": {
        "id": "2f-NOpTPCBFK",
        "colab": {
          "base_uri": "https://localhost:8080/"
        },
        "outputId": "926fb43e-19db-4e53-bdcf-0e71a7e9e449"
      },
      "source": [
        "train = Dial2DescDataset()\n",
        "dev = Dial2DescDataset(dev=True)\n",
        "len(train)"
      ],
      "execution_count": null,
      "outputs": [
        {
          "output_type": "execute_result",
          "data": {
            "text/plain": [
              "123287"
            ]
          },
          "metadata": {
            "tags": []
          },
          "execution_count": 8
        }
      ]
    },
    {
      "cell_type": "markdown",
      "metadata": {
        "id": "Ys7Lzqet0uuD"
      },
      "source": [
        "# Model"
      ]
    },
    {
      "cell_type": "markdown",
      "metadata": {
        "id": "RYNJZqKb-Kl6"
      },
      "source": [
        "## Position Encoder"
      ]
    },
    {
      "cell_type": "code",
      "metadata": {
        "id": "HF9EnP-E7_gA"
      },
      "source": [
        "class PositionalEncoding(nn.Module):    \n",
        "  def __init__(self, d_model, dropout=0.1, max_len=5000):\n",
        "    super(PositionalEncoding, self).__init__()\n",
        "    self.dropout = nn.Dropout(p=dropout)\n",
        "    pe = torch.zeros(max_len, d_model)\n",
        "    position = torch.arange(0, max_len,dtype=torch.float).unsqueeze(1)\n",
        "    div_term = torch.exp(torch.arange(0, d_model, 2).float()*(-math.log(10000.0) / d_model))        \n",
        "    pe[:, 0::2] = torch.sin(position * div_term)        \n",
        "    pe[:, 1::2] = torch.cos(position * div_term)        \n",
        "    pe = pe.unsqueeze(0).transpose(0, 1)        \n",
        "    self.register_buffer('pe', pe)\n",
        "  def forward(self, x):\n",
        "    x = x + self.pe[:x.size(0), :]        \n",
        "    return self.dropout(x)"
      ],
      "execution_count": null,
      "outputs": []
    },
    {
      "cell_type": "markdown",
      "metadata": {
        "id": "my4Y41Mh-OCY"
      },
      "source": [
        "## Encoder Layer"
      ]
    },
    {
      "cell_type": "code",
      "metadata": {
        "id": "dfZL5M9xh5Lp"
      },
      "source": [
        "src_vocab_size = 400003\n",
        "embed_size = 50\n",
        "turns = 10\n",
        "seq_len = 10\n",
        "heads = 2\n",
        "hidden_size = 256\n",
        "num_layers = 1\n",
        "batch_size = 16\n",
        "\n",
        "class EnhancedInteractionDialogueEncoder(nn.Module):\n",
        "  \n",
        "  def __init__(self, src_vocab_size, embed_size, turns, heads, hidden_size, num_layers, seq_len=seq_len):\n",
        "    super(EnhancedInteractionDialogueEncoder, self).__init__()\n",
        "    self.turns = turns\n",
        "    self.hidden_size = hidden_size\n",
        "    self.num_layers = num_layers\n",
        "\n",
        "    self.UELSTMSQ = nn.ModuleList([nn.LSTM(embed_size, hidden_size, num_layers, bidirectional=True) for i in range(turns)])\n",
        "    self.UEHiddensQ = [(torch.randn(num_layers*2, batch_size, hidden_size).to(device), torch.randn(num_layers*2, batch_size, hidden_size).to(device)) for i in range(turns)]\n",
        "    self.UELSTMSA = nn.ModuleList([nn.LSTM(embed_size, hidden_size, num_layers, bidirectional=True) for i in range(turns)])\n",
        "    self.UEHiddensA = [(torch.randn(num_layers*2, batch_size, hidden_size).to(device), torch.randn(num_layers*2, batch_size, hidden_size).to(device)) for i in range(turns)]\n",
        "\n",
        "    self.UIAttentionsQ = nn.ModuleList([nn.MultiheadAttention(2*hidden_size, heads) for i in range(turns)])\n",
        "    self.UIAttentionsA = nn.ModuleList([nn.MultiheadAttention(2*hidden_size, heads) for i in range(turns)])\n",
        "\n",
        "    self.DCLSTMSQ = nn.ModuleList([nn.LSTM(embed_size+hidden_size*4*2, hidden_size, num_layers, bidirectional=True) for i in range(turns)])\n",
        "    self.DCHiddensQ = [(torch.randn(num_layers*2, batch_size, hidden_size).to(device), torch.randn(num_layers*2, batch_size, hidden_size).to(device)) for i in range(turns)]\n",
        "    self.DCLSTMSA = nn.ModuleList([nn.LSTM(embed_size+hidden_size*4*2, hidden_size, num_layers, bidirectional=True) for i in range(turns)])\n",
        "    self.DCHiddensA = [(torch.randn(num_layers*2, batch_size, hidden_size).to(device), torch.randn(num_layers*2, batch_size, hidden_size).to(device)) for i in range(turns)]\n",
        "\n",
        "    self.fc = nn.Linear(hidden_size*2*2, embed_size)\n",
        "    self.position_encoding = PositionalEncoding(embed_size, max_len=turns*seq_len)\n",
        "    self.MOTransformers = nn.TransformerEncoderLayer(embed_size, heads, dim_feedforward=embed_size)\n",
        "\n",
        "  def forward(self, questions, answers):\n",
        "    questions = questions.permute(1, 2, 0, 3)\n",
        "    answers = answers.permute(1, 2, 0, 3)\n",
        "    seq_len = questions.shape[1]\n",
        "\n",
        "    #utterance encoding layer\n",
        "    ha = torch.zeros((turns, seq_len, batch_size, 2*self.hidden_size)).to(device)\n",
        "    hb = torch.zeros((turns, seq_len, batch_size, 2*self.hidden_size)).to(device)\n",
        "    for i in range(turns):\n",
        "      ha[i], _ = self.UELSTMSQ[i](questions[i], self.UEHiddensQ[i])\n",
        "      hb[i], _ = self.UELSTMSA[i](answers[i], self.UEHiddensA[i])\n",
        "\n",
        "    #utterance interaction layer\n",
        "    sa = torch.zeros_like(ha).to(device)\n",
        "    sb = torch.zeros_like(hb).to(device)\n",
        "    for i in range(turns):\n",
        "      sa[i], _ = self.UIAttentionsQ[i](ha[i], hb[i], hb[i])\n",
        "      sb[i], _ = self.UIAttentionsA[i](hb[i], ha[i], ha[i])\n",
        "\n",
        "    #densely connected recurrent layer \n",
        "    sae = torch.cat((ha, sa, ha-sa, ha*sa, questions), -1)\n",
        "    sbe = torch.cat((hb, sb, hb-sb, hb*sb, answers), -1)\n",
        "    hap = torch.zeros((turns, seq_len, batch_size, 2*self.hidden_size)).to(device)\n",
        "    hbp = torch.zeros((turns, seq_len, batch_size, 2*self.hidden_size)).to(device)\n",
        "    for i in range(turns):\n",
        "      hap[i], _ = self.DCLSTMSQ[i](sae[i], self.DCHiddensQ[i])\n",
        "      hbp[i], _ = self.DCLSTMSA[i](sbe[i], self.DCHiddensA[i])\n",
        "\n",
        "    #memory output layer\n",
        "    out = torch.cat((hap, hbp), -1).reshape(-1, batch_size, hidden_size*2*2)\n",
        "    out = self.fc(out)\n",
        "    positionE = self.position_encoding(out)\n",
        "    out = out + positionE\n",
        "    out = self.MOTransformers(out)\n",
        "    return out"
      ],
      "execution_count": null,
      "outputs": []
    },
    {
      "cell_type": "code",
      "metadata": {
        "id": "rr5xz2m2pAy7"
      },
      "source": [
        "encoder = EnhancedInteractionDialogueEncoder(src_vocab_size, embed_size, turns, heads, hidden_size, num_layers).to(device)\n",
        "m = encoder.forward(question, answer)\n",
        "decode = Decoder(embed_size, hidden_size, heads).to(device)\n",
        "decode.forward(captioni, m).shape"
      ],
      "execution_count": null,
      "outputs": []
    },
    {
      "cell_type": "markdown",
      "metadata": {
        "id": "mbLQSTyC-Tea"
      },
      "source": [
        "## Decoder Layer"
      ]
    },
    {
      "cell_type": "code",
      "metadata": {
        "id": "NYIab2MG-b22"
      },
      "source": [
        "caption_len = 14\n",
        "\n",
        "class Decoder(nn.Module):\n",
        "\n",
        "  def __init__(self,embed_size, hidden_size, heads):\n",
        "    super(Decoder, self).__init__()\n",
        "\n",
        "    self.positionE = PositionalEncoding(embed_size, max_len=caption_len)\n",
        "    self.transformersDecoder = nn.TransformerDecoderLayer(embed_size, heads)\n",
        "  \n",
        "  def forward(self, tgt, memory):\n",
        "    tgt = tgt.permute(1, 0, 2)\n",
        "    positionE = self.positionE(tgt)\n",
        "    out = tgt + positionE\n",
        "    out = self.transformersDecoder(out, memory)\n",
        "    return out"
      ],
      "execution_count": null,
      "outputs": []
    },
    {
      "cell_type": "markdown",
      "metadata": {
        "id": "Zi-BeWpOOBtZ"
      },
      "source": [
        "## Full model"
      ]
    },
    {
      "cell_type": "code",
      "metadata": {
        "id": "O9-VLWHCOHwi"
      },
      "source": [
        "# Hyper-parameters\n",
        "num_epochs = 4\n",
        "learning_rate = 1e-5\n",
        "\n",
        "\n",
        "class Dial2Desc(pl.LightningModule):\n",
        "    def __init__(self, src_vocab_size, embed_size, turns, heads, hidden_size, num_layers, seq_len=seq_len):\n",
        "        super(Dial2Desc, self).__init__()\n",
        "        self.num_layers = num_layers\n",
        "        self.hidden_size = hidden_size\n",
        "        self.encoder = EnhancedInteractionDialogueEncoder(src_vocab_size, embed_size, turns, heads, hidden_size, num_layers)\n",
        "        self.decoder = Decoder(embed_size, hidden_size, heads)\n",
        "        self.fc = nn.Linear(embed_size, src_vocab_size)\n",
        "        self.logsoftmax = nn.LogSoftmax(dim=-1)\n",
        "        self.loss = nn.NLLLoss()\n",
        "        \n",
        "\n",
        "    def forward(self, questions, anwsers, captionsI):\n",
        "        m = self.encoder(questions, anwsers)\n",
        "        out = self.decoder(captionsI, m)\n",
        "        out = self.fc(out)\n",
        "        out = self.logsoftmax(out)\n",
        "        return out\n",
        "\n",
        "    def training_step(self, batch, batch_idx):\n",
        "        questions, anwsers, captionsI, captionsO = batch\n",
        "        # Forward pass\n",
        "        outputs = self(questions, anwsers, captionsI)\n",
        "        outputs = outputs.permute(1, 2, 0)\n",
        "        loss = self.loss(outputs, captionsO)\n",
        "        # use key 'log'\n",
        "        return {\"loss\": loss}\n",
        "\n",
        "    def train_dataloader(self):\n",
        "        # Data loader\n",
        "        train_loader = torch.utils.data.DataLoader(\n",
        "            dataset=train, batch_size=batch_size, shuffle=True, drop_last=True\n",
        "        )\n",
        "        return train_loader\n",
        "\n",
        "    def val_dataloader(self):\n",
        "        val_loader = torch.utils.data.DataLoader(\n",
        "            dataset=dev, batch_size=batch_size, shuffle=False, drop_last=True\n",
        "        )\n",
        "        return val_loader\n",
        "    \n",
        "    def validation_step(self, batch, batch_idx):\n",
        "        questions, anwsers, captionsI, captionsO = batch\n",
        "        # Forward pass\n",
        "        outputs = self(questions, anwsers, captionsI)\n",
        "        outputs = outputs.permute(1, 2, 0)\n",
        "        loss = self.loss(outputs, captionsO)\n",
        "        # use key 'log'\n",
        "        return {\"val_loss\": loss}\n",
        "    \n",
        "    def validation_epoch_end(self, outputs):\n",
        "        # outputs = list of dictionaries\n",
        "        avg_loss = torch.stack([x['val_loss'] for x in outputs]).mean()\n",
        "        # use key 'log'\n",
        "        return {'val_loss': avg_loss}\n",
        "    \n",
        "    def configure_optimizers(self):\n",
        "        return torch.optim.Adam(self.parameters(), lr=learning_rate)"
      ],
      "execution_count": null,
      "outputs": []
    },
    {
      "cell_type": "code",
      "metadata": {
        "id": "h0Nc6aiFmZbL"
      },
      "source": [
        "model = Dial2Desc(src_vocab_size, embed_size, turns, heads, hidden_size, num_layers)"
      ],
      "execution_count": null,
      "outputs": []
    },
    {
      "cell_type": "code",
      "metadata": {
        "colab": {
          "base_uri": "https://localhost:8080/",
          "height": 441,
          "referenced_widgets": [
            "d6b0473590f848b8bf244969506c445c",
            "08f7e7c7402a445bbfba46ec90f5a47a",
            "b7735f4d55b44654a39df8ef6c94aba4",
            "469557bf7d184ed8b13f92f804021d5a",
            "e8394c88ea3c4234bdf95e3bb1700951",
            "59bfcc36d2394f0e9aeeee062e239d73",
            "5a1d50adece64952a77f68e23b7cf8f0",
            "7358dbfeaeaa438ca781d723cbd39704",
            "2a261e60eead499abe175a3701adcfd7",
            "6704fff628694819952207b89fc00770",
            "d73125dcb6984501b6ac336ec132dfeb",
            "7df7f35de96f4e558f87c7d34253a734",
            "027856c3e0364b60bac2242bfece743c",
            "fa25f762c9f34b26a96a3a5d6b2455ca",
            "16372422aa7d4c638f3e10ae7595fbfe",
            "3098be0a538a457bba7c5435bef7b875",
            "dd343c9e97e74d5784c1879050727d93",
            "f68aada4dd5f42b9a84f5eeeeea36f1f",
            "87e8d3d1f6e246bea3f3c36aad87fb70",
            "6adbc12771c74059afe7a67524106b4e",
            "0e761f2ec82d41e68b850cd7dceb2b54",
            "096e331a1bb244fd9fedd8cb0169eed5",
            "bb9f081442b34240ab84aa0dbc126603",
            "f503b1bb5abc403fb8a2fca305cfcf33",
            "829072a936ee43708da76a207fbb177a",
            "7394ff13288d4f80aa801d9914501654",
            "1814c732f44e436496168689316525bb",
            "78c696d7469349519ea79bd77ec3e28e",
            "d42592055e1e48ef9e4ff61e6331c2ed",
            "8e66b02411c348af941d5e7ae7e4d6b2",
            "35836232927644e3a7858138c21a33d8",
            "6cfda72424ff494490ced4d00774f35b",
            "c6d3e0805f864fb2a17240b642a99262",
            "e41bfa8a230e4a85a7954429e188833a",
            "fa45fce974d141eabe105115ea816b66",
            "04ad7b138c7e41e2b10b4aa6d585777e",
            "17b2d051041146eaa93c7d1238c5a52d",
            "57df0e5b8a8d4c719195d9915517c3eb",
            "28187a5b28494882bc28f7ddc745267f",
            "e87e9e45d24f46d7b81f6a677b68a6d0",
            "3af35535b1364e669ec1828fdf503cf4",
            "9b736fdacba448c7934809e10ee19330",
            "06bbcff30d5444a8a6be28e4a174e7e4",
            "e2b71c97a9a24bee8d780f59bb383bd6",
            "df0628c926df4d4f8267864d2bd0003e",
            "c78d91374853434ebd545c500f5bc886",
            "eecb28c510bc461e8be39d879572218c",
            "2f3a75529229457f8ce4ad9649a10ec3"
          ]
        },
        "id": "WBP_Wydjat_D",
        "outputId": "f24f5daf-a57f-4099-af43-b1f9a0caee69"
      },
      "source": [
        "trainer = pl.Trainer(max_epochs=num_epochs, gpus=1)\n",
        "trainer.fit(model)"
      ],
      "execution_count": null,
      "outputs": [
        {
          "output_type": "stream",
          "text": [
            "GPU available: True, used: True\n",
            "TPU available: None, using: 0 TPU cores\n",
            "LOCAL_RANK: 0 - CUDA_VISIBLE_DEVICES: [0]\n",
            "\n",
            "  | Name       | Type                               | Params\n",
            "------------------------------------------------------------------\n",
            "0 | encoder    | EnhancedInteractionDialogueEncoder | 130 M \n",
            "1 | decoder    | Decoder                            | 227 K \n",
            "2 | fc         | Linear                             | 20.4 M\n",
            "3 | logsoftmax | LogSoftmax                         | 0     \n",
            "4 | loss       | NLLLoss                            | 0     \n",
            "------------------------------------------------------------------\n",
            "150 M     Trainable params\n",
            "0         Non-trainable params\n",
            "150 M     Total params\n",
            "603.298   Total estimated model params size (MB)\n"
          ],
          "name": "stderr"
        },
        {
          "output_type": "display_data",
          "data": {
            "application/vnd.jupyter.widget-view+json": {
              "model_id": "d6b0473590f848b8bf244969506c445c",
              "version_minor": 0,
              "version_major": 2
            },
            "text/plain": [
              "HBox(children=(FloatProgress(value=1.0, bar_style='info', description='Validation sanity check', layout=Layout…"
            ]
          },
          "metadata": {
            "tags": []
          }
        },
        {
          "output_type": "stream",
          "text": [
            "\r"
          ],
          "name": "stdout"
        },
        {
          "output_type": "stream",
          "text": [
            "/usr/local/lib/python3.7/dist-packages/pytorch_lightning/utilities/distributed.py:52: UserWarning: The validation_epoch_end should not return anything as of 9.1. To log, use self.log(...) or self.write(...) directly in the LightningModule\n",
            "  warnings.warn(*args, **kwargs)\n"
          ],
          "name": "stderr"
        },
        {
          "output_type": "display_data",
          "data": {
            "application/vnd.jupyter.widget-view+json": {
              "model_id": "2a261e60eead499abe175a3701adcfd7",
              "version_minor": 0,
              "version_major": 2
            },
            "text/plain": [
              "HBox(children=(FloatProgress(value=1.0, bar_style='info', description='Training', layout=Layout(flex='2'), max…"
            ]
          },
          "metadata": {
            "tags": []
          }
        },
        {
          "output_type": "display_data",
          "data": {
            "application/vnd.jupyter.widget-view+json": {
              "model_id": "dd343c9e97e74d5784c1879050727d93",
              "version_minor": 0,
              "version_major": 2
            },
            "text/plain": [
              "HBox(children=(FloatProgress(value=1.0, bar_style='info', description='Validating', layout=Layout(flex='2'), m…"
            ]
          },
          "metadata": {
            "tags": []
          }
        },
        {
          "output_type": "display_data",
          "data": {
            "application/vnd.jupyter.widget-view+json": {
              "model_id": "829072a936ee43708da76a207fbb177a",
              "version_minor": 0,
              "version_major": 2
            },
            "text/plain": [
              "HBox(children=(FloatProgress(value=1.0, bar_style='info', description='Validating', layout=Layout(flex='2'), m…"
            ]
          },
          "metadata": {
            "tags": []
          }
        },
        {
          "output_type": "display_data",
          "data": {
            "application/vnd.jupyter.widget-view+json": {
              "model_id": "c6d3e0805f864fb2a17240b642a99262",
              "version_minor": 0,
              "version_major": 2
            },
            "text/plain": [
              "HBox(children=(FloatProgress(value=1.0, bar_style='info', description='Validating', layout=Layout(flex='2'), m…"
            ]
          },
          "metadata": {
            "tags": []
          }
        },
        {
          "output_type": "display_data",
          "data": {
            "application/vnd.jupyter.widget-view+json": {
              "model_id": "3af35535b1364e669ec1828fdf503cf4",
              "version_minor": 0,
              "version_major": 2
            },
            "text/plain": [
              "HBox(children=(FloatProgress(value=1.0, bar_style='info', description='Validating', layout=Layout(flex='2'), m…"
            ]
          },
          "metadata": {
            "tags": []
          }
        },
        {
          "output_type": "stream",
          "text": [
            "\n"
          ],
          "name": "stdout"
        },
        {
          "output_type": "execute_result",
          "data": {
            "text/plain": [
              "1"
            ]
          },
          "metadata": {
            "tags": []
          },
          "execution_count": 22
        }
      ]
    },
    {
      "cell_type": "code",
      "metadata": {
        "id": "d_TgWp6X-Y6f"
      },
      "source": [
        "question = dev[:batch_size][0]\n",
        "answer = dev[:batch_size][1]\n",
        "captioni = dev[:batch_size][2]\n",
        "start = torch.zeros((16, 14, 50)).to(device)\n",
        "predictions = torch.zeros((16, 14))\n",
        "'''for i in range(caption_len):\n",
        "  output = model.forward(question, answer, start)\n",
        "  tokens = output.permute(1, 0, 2)[:, i, :].argmax(dim=-1)\n",
        "  predictions[:, i] = tokens\n",
        "  for j in range(caption_len):\n",
        "    start[j][i] = torch.tensor(myWordModel(tokens[i]))'''"
      ],
      "execution_count": null,
      "outputs": []
    },
    {
      "cell_type": "code",
      "metadata": {
        "id": "07UxuE8vI0o8"
      },
      "source": [
        "out = model.forward(question, answer, captioni).permute(1, 0, 2).argmax(dim=-1)[0].tolist()\n",
        "out = predictions[0].int().tolist()\n",
        "for elm in out:\n",
        "  print(indextoword(elm), end=' ')"
      ],
      "execution_count": null,
      "outputs": []
    },
    {
      "cell_type": "code",
      "metadata": {
        "id": "ySfijrp4LT8h"
      },
      "source": [
        ""
      ],
      "execution_count": null,
      "outputs": []
    }
  ]
}